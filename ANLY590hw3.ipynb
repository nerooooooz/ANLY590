{
 "cells": [
  {
   "cell_type": "markdown",
   "metadata": {},
   "source": [
    "# ANLY590 HW3\n",
    "## Zikai Zhu\n",
    "\n",
    "### Problem 1"
   ]
  },
  {
   "cell_type": "code",
   "execution_count": 2,
   "metadata": {},
   "outputs": [],
   "source": [
    "from keras.layers import Input, Dense, Conv2D, MaxPooling2D, UpSampling2D, Reshape\n",
    "from keras.models import Model\n",
    "from keras import backend as K\n",
    "import numpy as np\n",
    "import keras\n",
    "from keras.layers import Conv2D, MaxPool2D, Flatten\n",
    "from keras.layers import Dense, Dropout\n",
    "import matplotlib.pyplot as plt\n",
    "from keras.datasets import fashion_mnist"
   ]
  },
  {
   "cell_type": "code",
   "execution_count": 4,
   "metadata": {},
   "outputs": [
    {
     "name": "stdout",
     "output_type": "stream",
     "text": [
      "Downloading data from http://fashion-mnist.s3-website.eu-central-1.amazonaws.com/train-labels-idx1-ubyte.gz\n",
      "32768/29515 [=================================] - 0s 3us/step\n",
      "Downloading data from http://fashion-mnist.s3-website.eu-central-1.amazonaws.com/train-images-idx3-ubyte.gz\n",
      "26427392/26421880 [==============================] - 3s 0us/step\n",
      "Downloading data from http://fashion-mnist.s3-website.eu-central-1.amazonaws.com/t10k-labels-idx1-ubyte.gz\n",
      "8192/5148 [===============================================] - 0s 0us/step\n",
      "Downloading data from http://fashion-mnist.s3-website.eu-central-1.amazonaws.com/t10k-images-idx3-ubyte.gz\n",
      "4423680/4422102 [==============================] - 1s 0us/step\n"
     ]
    }
   ],
   "source": [
    "(x_train, y_train), (x_test, y_test) = fashion_mnist.load_data()\n",
    "input_img = Input(shape=(28,28, 1)) \n",
    "\n",
    "x = Conv2D(16, (3, 3), activation='relu', padding='same')(input_img)\n",
    "x = MaxPooling2D((2, 2), padding='same')(x)\n",
    "x = Conv2D(8, (3, 3), activation='relu', padding='same')(x)\n",
    "x = MaxPooling2D((2, 2), padding='same')(x)\n",
    "x = Conv2D(8, (3, 3), activation='relu', padding='same')(x)\n",
    "encoded = MaxPooling2D((2, 2), padding='same')(x)\n",
    "\n",
    "\n",
    "x = Conv2D(8, (3, 3), activation='relu', padding='same')(encoded)\n",
    "x = UpSampling2D((2, 2))(x)\n",
    "x = Conv2D(8, (3, 3), activation='relu', padding='same')(x)\n",
    "x = UpSampling2D((2, 2))(x)\n",
    "x = Conv2D(16, (3, 3), activation='relu')(x)\n",
    "x = UpSampling2D((2, 2))(x)\n",
    "decoded = Conv2D(1, (3, 3), activation='sigmoid', padding='same')(x)\n",
    "\n",
    "autoencoder = Model(input_img, decoded)\n",
    "autoencoder.compile(optimizer='adadelta', loss='binary_crossentropy')"
   ]
  },
  {
   "cell_type": "code",
   "execution_count": 5,
   "metadata": {},
   "outputs": [],
   "source": [
    "x_train = x_train.astype('float32') / 255.\n",
    "x_test = x_test.astype('float32') / 255.\n",
    "x_train = np.reshape(x_train, (len(x_train), 28, 28, 1))\n",
    "x_test = np.reshape(x_test, (len(x_test), 28, 28, 1))"
   ]
  },
  {
   "cell_type": "code",
   "execution_count": 6,
   "metadata": {},
   "outputs": [
    {
     "name": "stdout",
     "output_type": "stream",
     "text": [
      "Train on 60000 samples, validate on 10000 samples\n",
      "Epoch 1/5\n",
      "60000/60000 [==============================] - 246s 4ms/step - loss: 0.3731 - val_loss: 0.3272\n",
      "Epoch 2/5\n",
      "60000/60000 [==============================] - 244s 4ms/step - loss: 0.3227 - val_loss: 0.3182\n",
      "Epoch 3/5\n",
      "60000/60000 [==============================] - 233s 4ms/step - loss: 0.3130 - val_loss: 0.3095\n",
      "Epoch 4/5\n",
      "60000/60000 [==============================] - 243s 4ms/step - loss: 0.3081 - val_loss: 0.3066\n",
      "Epoch 5/5\n",
      "60000/60000 [==============================] - 245s 4ms/step - loss: 0.3050 - val_loss: 0.3007\n"
     ]
    },
    {
     "data": {
      "text/plain": [
       "<keras.callbacks.History at 0x1a26ee0be0>"
      ]
     },
     "execution_count": 6,
     "metadata": {},
     "output_type": "execute_result"
    }
   ],
   "source": [
    "autoencoder.fit(x_train, x_train, \n",
    "          epochs=5, \n",
    "          batch_size = 128,\n",
    "          shuffle=True, \n",
    "          validation_data=(x_test, x_test))"
   ]
  },
  {
   "cell_type": "code",
   "execution_count": 7,
   "metadata": {},
   "outputs": [
    {
     "data": {
      "image/png": "[encoded data removed]",
      "text/plain": [
       "<Figure size 1440x288 with 20 Axes>"
      ]
     },
     "metadata": {
      "needs_background": "light"
     },
     "output_type": "display_data"
    }
   ],
   "source": [
    "decoded_imgs = autoencoder.predict(x_test)\n",
    "\n",
    "n = 10\n",
    "plt.figure(figsize=(20, 4))\n",
    "for i in range(n):\n",
    "    i = i + 1\n",
    "    # display original\n",
    "    ax = plt.subplot(2, n, i)\n",
    "    plt.imshow(x_test[i].reshape(28, 28))\n",
    "    plt.gray()\n",
    "    ax.get_xaxis().set_visible(False)\n",
    "    ax.get_yaxis().set_visible(False)\n",
    "\n",
    "    # display reconstruction\n",
    "    ax = plt.subplot(2, n, i + n)\n",
    "    plt.imshow(decoded_imgs[i].reshape(28, 28))\n",
    "    plt.gray()\n",
    "    ax.get_xaxis().set_visible(False)\n",
    "    ax.get_yaxis().set_visible(False)\n",
    "plt.show()"
   ]
  },
  {
   "cell_type": "markdown",
   "metadata": {},
   "source": [
    "### Problem 2"
   ]
  },
  {
   "cell_type": "code",
   "execution_count": 3,
   "metadata": {},
   "outputs": [],
   "source": [
    "from keras.models import Sequential\n",
    "from keras.layers import Dense, Activation\n",
    "from keras.layers import Input, Dense, Conv2D, MaxPooling2D, UpSampling2D, Reshape, LeakyReLU"
   ]
  },
  {
   "cell_type": "code",
   "execution_count": 6,
   "metadata": {},
   "outputs": [],
   "source": [
    "(x_train, y_train), (x_test, y_test) = fashion_mnist.load_data()\n",
    "x_train = x_train.astype('float32') / 255.\n",
    "x_test = x_test.astype('float32') / 255.\n",
    "x_train = np.reshape(x_train, (len(x_train), 28, 28, 1))\n",
    "x_test = np.reshape(x_test, (len(x_test), 28, 28, 1))\n",
    "\n",
    "y_train = keras.utils.to_categorical(y_train, num_classes=10)\n",
    "y_test = keras.utils.to_categorical(y_test, num_classes=10)"
   ]
  },
  {
   "cell_type": "code",
   "execution_count": 34,
   "metadata": {},
   "outputs": [],
   "source": [
    "model = Sequential()\n",
    "model.add(Conv2D(32,kernel_size = (3,3), activation = 'relu', input_shape = (28,28,1)))\n",
    "model.add(Conv2D(32,kernel_size = (3,3), activation = 'relu'))\n",
    "model.add(MaxPooling2D(pool_size = (2,2)))\n",
    "model.add(Dropout(0.25))\n",
    "\n",
    "model.add(Conv2D(64, (3,3), activation = 'relu'))\n",
    "model.add(Conv2D(64, (3,3), activation = 'relu'))\n",
    "model.add(MaxPooling2D(pool_size = (2,2)))\n",
    "model.add(Dropout(0.25))\n",
    "model.add(Flatten()) #flatten in order to run ANN\n",
    "model.add(Dense(128, activation = 'relu')) #using 128 parameters\n",
    "model.add(Dropout(0.25))\n",
    "model.add(Dense(10, activation = 'softmax'))#output 10 results to classify 10 classes\n",
    "\n",
    "model.compile(optimizer='adadelta',\n",
    "              loss='categorical_crossentropy',\n",
    "              metrics=['accuracy'])"
   ]
  },
  {
   "cell_type": "code",
   "execution_count": 35,
   "metadata": {},
   "outputs": [
    {
     "name": "stdout",
     "output_type": "stream",
     "text": [
      "Train on 60000 samples, validate on 10000 samples\n",
      "Epoch 1/5\n",
      "60000/60000 [==============================] - 233s 4ms/step - loss: 0.5340 - acc: 0.8027 - val_loss: 0.3513 - val_acc: 0.8753\n",
      "Epoch 2/5\n",
      "60000/60000 [==============================] - 212s 4ms/step - loss: 0.3422 - acc: 0.8766 - val_loss: 0.3085 - val_acc: 0.8882\n",
      "Epoch 3/5\n",
      "60000/60000 [==============================] - 214s 4ms/step - loss: 0.2974 - acc: 0.8932 - val_loss: 0.2656 - val_acc: 0.9034\n",
      "Epoch 4/5\n",
      "60000/60000 [==============================] - 202s 3ms/step - loss: 0.2739 - acc: 0.9024 - val_loss: 0.2554 - val_acc: 0.9107\n",
      "Epoch 5/5\n",
      "60000/60000 [==============================] - 220s 4ms/step - loss: 0.2593 - acc: 0.9061 - val_loss: 0.2515 - val_acc: 0.9087\n"
     ]
    }
   ],
   "source": [
    "history_dCNN = model.fit(x_train, y_train, \n",
    "          epochs=5, \n",
    "          batch_size=32,\n",
    "          validation_data = (x_test, y_test))"
   ]
  },
  {
   "cell_type": "code",
   "execution_count": 36,
   "metadata": {},
   "outputs": [
    {
     "name": "stdout",
     "output_type": "stream",
     "text": [
      "10000/10000 [==============================] - 8s 844us/step\n",
      "[0.25149928634762764, 0.9087]\n",
      "60000/60000 [==============================] - 43s 710us/step\n",
      "[0.21266513683398564, 0.9211166666666667]\n"
     ]
    }
   ],
   "source": [
    "print(model.evaluate(x_test, y_test))\n",
    "print(model.evaluate(x_train, y_train))"
   ]
  },
  {
   "cell_type": "code",
   "execution_count": 37,
   "metadata": {},
   "outputs": [
    {
     "data": {
      "text/plain": [
       "<matplotlib.legend.Legend at 0x1a506e0e48>"
      ]
     },
     "execution_count": 37,
     "metadata": {},
     "output_type": "execute_result"
    },
    {
     "data": {
      "image/png": "[encoded data removed]",
      "text/plain": [
       "<Figure size 432x288 with 1 Axes>"
      ]
     },
     "metadata": {
      "needs_background": "light"
     },
     "output_type": "display_data"
    }
   ],
   "source": [
    "plt.plot(history_dCNN.history['loss'])\n",
    "plt.plot(history_dCNN.history['val_loss'])\n",
    "plt.legend(['train', 'test'], loc='lower left')"
   ]
  },
  {
   "cell_type": "markdown",
   "metadata": {},
   "source": [
    "It shows the model is overfitting."
   ]
  },
  {
   "cell_type": "code",
   "execution_count": 4,
   "metadata": {},
   "outputs": [],
   "source": [
    "#2.2\n",
    "from keras.applications import VGG16\n",
    "import skimage\n",
    "from skimage.transform import resize\n",
    "from tqdm import tqdm\n",
    "from keras.models import Sequential\n",
    "\n",
    "from keras import backend as K\n",
    "from keras.layers import Lambda, Input\n",
    "from keras.models import Model\n",
    "import cv2"
   ]
  },
  {
   "cell_type": "code",
   "execution_count": 7,
   "metadata": {},
   "outputs": [],
   "source": [
    "x_train1 = np.asarray([cv2.resize(i, (32,32)) for i in x_train])\n",
    "x_test1 = np.asarray([cv2.resize(i, (32,32)) for i in x_test])"
   ]
  },
  {
   "cell_type": "code",
   "execution_count": 8,
   "metadata": {},
   "outputs": [],
   "source": [
    "x_train1 = x_train1.reshape(x_train1.shape[0], 32, 32,1)\n",
    "x_test1 = x_test1.reshape(x_test1.shape[0], 32, 32, 1)"
   ]
  },
  {
   "cell_type": "code",
   "execution_count": 9,
   "metadata": {},
   "outputs": [],
   "source": [
    "x_train1 = np.asarray([np.squeeze(np.stack((i, )*3, axis = -1)) for i in x_train1])\n",
    "x_test1 = np.asarray([np.squeeze(np.stack((i, )*3, axis = -1)) for i in x_test1])"
   ]
  },
  {
   "cell_type": "code",
   "execution_count": 10,
   "metadata": {},
   "outputs": [],
   "source": [
    "conv_base = VGG16(weights = \"imagenet\", include_top=False, input_shape = (32,32,3))"
   ]
  },
  {
   "cell_type": "code",
   "execution_count": 11,
   "metadata": {},
   "outputs": [],
   "source": [
    "T_model = Sequential()\n",
    "T_model.add(conv_base)\n",
    "T_model.add(Flatten())\n",
    "T_model.add(Dense(256, activation=\"relu\"))\n",
    "T_model.add(Dense(10, activation=\"softmax\"))"
   ]
  },
  {
   "cell_type": "code",
   "execution_count": 12,
   "metadata": {},
   "outputs": [],
   "source": [
    "conv_base.trainable = False"
   ]
  },
  {
   "cell_type": "code",
   "execution_count": 13,
   "metadata": {},
   "outputs": [],
   "source": [
    "T_model.compile(loss='categorical_crossentropy', optimizer='adam',metrics=[\"accuracy\"])"
   ]
  },
  {
   "cell_type": "code",
   "execution_count": 14,
   "metadata": {},
   "outputs": [
    {
     "name": "stdout",
     "output_type": "stream",
     "text": [
      "Train on 60000 samples, validate on 10000 samples\n",
      "Epoch 1/10\n",
      "60000/60000 [==============================] - 1319s 22ms/step - loss: 0.5905 - acc: 0.7956 - val_loss: 0.4570 - val_acc: 0.8383\n",
      "Epoch 2/10\n",
      "60000/60000 [==============================] - 1347s 22ms/step - loss: 0.4213 - acc: 0.8461 - val_loss: 0.4244 - val_acc: 0.8491\n",
      "Epoch 3/10\n",
      "60000/60000 [==============================] - 1419s 24ms/step - loss: 0.3875 - acc: 0.8578 - val_loss: 0.4094 - val_acc: 0.8558\n",
      "Epoch 4/10\n",
      "60000/60000 [==============================] - 1289s 21ms/step - loss: 0.3665 - acc: 0.8647 - val_loss: 0.3922 - val_acc: 0.8609\n",
      "Epoch 5/10\n",
      "60000/60000 [==============================] - 1316s 22ms/step - loss: 0.3497 - acc: 0.8716 - val_loss: 0.3882 - val_acc: 0.8603\n",
      "Epoch 6/10\n",
      "60000/60000 [==============================] - 7179s 120ms/step - loss: 0.3381 - acc: 0.8756 - val_loss: 0.3899 - val_acc: 0.8607\n",
      "Epoch 7/10\n",
      "60000/60000 [==============================] - 13328s 222ms/step - loss: 0.3263 - acc: 0.8808 - val_loss: 0.3811 - val_acc: 0.8640\n",
      "Epoch 8/10\n",
      "60000/60000 [==============================] - 19826s 330ms/step - loss: 0.3167 - acc: 0.8821 - val_loss: 0.3631 - val_acc: 0.8719\n",
      "Epoch 9/10\n",
      "60000/60000 [==============================] - 1345s 22ms/step - loss: 0.3048 - acc: 0.8877 - val_loss: 0.3665 - val_acc: 0.8704\n",
      "Epoch 10/10\n",
      "60000/60000 [==============================] - 1361s 23ms/step - loss: 0.2958 - acc: 0.8904 - val_loss: 0.3789 - val_acc: 0.8645\n"
     ]
    }
   ],
   "source": [
    "history = T_model.fit(x_train1,y_train, \n",
    "                    epochs=10, \n",
    "                    batch_size=150,\n",
    "                    verbose = 1,\n",
    "                    validation_data = (x_test1, y_test))"
   ]
  },
  {
   "cell_type": "code",
   "execution_count": 15,
   "metadata": {},
   "outputs": [
    {
     "name": "stdout",
     "output_type": "stream",
     "text": [
      "10000/10000 [==============================] - 198s 20ms/step\n",
      "[0.3789451290845871, 0.8645]\n",
      "60000/60000 [==============================] - 1224s 20ms/step\n",
      "[0.29232427151203155, 0.8908333333333334]\n"
     ]
    }
   ],
   "source": [
    "print(T_model.evaluate(x_test1, y_test))\n",
    "print(T_model.evaluate(x_train1, y_train))"
   ]
  },
  {
   "cell_type": "code",
   "execution_count": 16,
   "metadata": {},
   "outputs": [
    {
     "data": {
      "text/plain": [
       "<matplotlib.legend.Legend at 0x1c39b5d160>"
      ]
     },
     "execution_count": 16,
     "metadata": {},
     "output_type": "execute_result"
    },
    {
     "data": {
      "image/png": "[encoded data removed]",
      "text/plain": [
       "<Figure size 432x288 with 1 Axes>"
      ]
     },
     "metadata": {
      "needs_background": "light"
     },
     "output_type": "display_data"
    }
   ],
   "source": [
    "plt.plot(history.history['loss'])\n",
    "plt.plot(history.history['val_loss'])\n",
    "plt.legend(['train', 'test'], loc='lower left')"
   ]
  },
  {
   "cell_type": "markdown",
   "metadata": {},
   "source": [
    "### Problem 3"
   ]
  },
  {
   "cell_type": "code",
   "execution_count": 17,
   "metadata": {},
   "outputs": [
    {
     "name": "stdout",
     "output_type": "stream",
     "text": [
      "[nltk_data] Downloading package stopwords to\n",
      "[nltk_data]     /Users/Cassie/nltk_data...\n",
      "[nltk_data]   Unzipping corpora/stopwords.zip.\n",
      "[nltk_data] Downloading package wordnet to /Users/Cassie/nltk_data...\n",
      "[nltk_data]   Package wordnet is already up-to-date!\n",
      "[nltk_data] Downloading package punkt to /Users/Cassie/nltk_data...\n",
      "[nltk_data]   Unzipping tokenizers/punkt.zip.\n"
     ]
    },
    {
     "data": {
      "text/plain": [
       "True"
      ]
     },
     "execution_count": 17,
     "metadata": {},
     "output_type": "execute_result"
    }
   ],
   "source": [
    "import pandas as pd\n",
    "import nltk\n",
    "import collections\n",
    "from nltk.util import ngrams\n",
    "from nltk.tokenize import word_tokenize\n",
    "from nltk.stem.porter import PorterStemmer\n",
    "from nltk.stem import WordNetLemmatizer\n",
    "from sklearn.model_selection import train_test_split\n",
    "from keras.applications.vgg16 import preprocess_input\n",
    "from keras.layers.embeddings import Embedding\n",
    "from keras.layers import Input, Dense, Dropout, Activation, Flatten, GlobalMaxPooling1D, LSTM\n",
    "from keras.callbacks import TensorBoard\n",
    "from keras.preprocessing import sequence\n",
    "from keras.preprocessing.text import Tokenizer\n",
    "from sklearn.utils import class_weight\n",
    "from keras.layers import LSTM, Conv1D, GlobalMaxPooling1D\n",
    "import regex as re\n",
    "from nltk.corpus import stopwords\n",
    "import gensim\n",
    "from gensim.models import Word2Vec\n",
    "from tensorflow.keras.preprocessing import sequence\n",
    "\n",
    "nltk.download('stopwords')\n",
    "nltk.download('wordnet')\n",
    "nltk.download('punkt')"
   ]
  },
  {
   "cell_type": "code",
   "execution_count": 18,
   "metadata": {},
   "outputs": [],
   "source": [
    "tweets = pd.read_csv('tweets_with_labels.csv', sep = '\\t')\n",
    "\n",
    "# clean tweets\n",
    "stopWords = set(stopwords.words('english'))\n",
    "stemmer = PorterStemmer()\n",
    "lemmatizer = WordNetLemmatizer()\n",
    "\n",
    "def preprocess_tweets(tweet):\n",
    "    tweet = re.sub(\"@mention\", \"\",tweet)\n",
    "    tweet = re.sub(\"{link}\", \"\",tweet)\n",
    "    tweet = re.sub(\"[^A-Za-z]\",\" \",tweet)\n",
    "    tweet = re.sub(r'\\bRT\\b', '', tweet)\n",
    "    tweet = re.sub(\"\\s+\",\" \",tweet)\n",
    "    tokens = word_tokenize(tweet)\n",
    "    words = [word for word in tokens if word not in stopWords]\n",
    "    words = [stemmer.stem(w).strip(\"'\") for w in words]\n",
    "    words = [lemmatizer.lemmatize(w, pos=\"a\") for w in words]\n",
    "    words = [word for word in words if len(word)!=1]\n",
    "    final_tweet = ' '.join(words)\n",
    "    return final_tweet\n",
    "\n",
    "new_tweet = [preprocess_tweets(x) for x in list(tweets.tweet)]\n",
    "tweets['new_tweets'] = new_tweet"
   ]
  },
  {
   "cell_type": "code",
   "execution_count": 19,
   "metadata": {},
   "outputs": [],
   "source": [
    "token = [word_tokenize(x) for x in list(tweets.new_tweets)]\n",
    "\n",
    "# clean out empty new_tweets by removing them\n",
    "remove_lst=[]\n",
    "for w in token:\n",
    "    remove_lst.append(len(w))\n",
    "bad_idx = [n for n,x in enumerate(remove_lst) if x == 0]\n",
    "tweets_updated = tweets.drop(bad_idx)"
   ]
  },
  {
   "cell_type": "code",
   "execution_count": 20,
   "metadata": {},
   "outputs": [
    {
     "name": "stdout",
     "output_type": "stream",
     "text": [
      "X_train shape:  54551\n",
      "X_test shape:  23379\n",
      "y_train shape:  (54551, 15)\n",
      "y_test shape:  (23379, 15)\n"
     ]
    }
   ],
   "source": [
    "# preprocess finished and define X and y for train test split\n",
    "\n",
    "X = [word_tokenize(x) for x in list(tweets_updated['new_tweets'])]\n",
    "\n",
    "# label y for any k1 to k15 not equal to 0\n",
    "label = tweets_updated.loc[:,'k1':'k15']\n",
    "label[tweets_updated != 0] = 1\n",
    "y = label.values\n",
    "\n",
    "X_train, X_test, y_train, y_test = train_test_split(X, y, test_size=0.3, random_state=13)\n",
    "print('X_train shape: ', len(X_train))\n",
    "print('X_test shape: ', len(X_test))\n",
    "print('y_train shape: ', y_train.shape)\n",
    "print('y_test shape: ', y_test.shape)"
   ]
  },
  {
   "cell_type": "code",
   "execution_count": 21,
   "metadata": {},
   "outputs": [],
   "source": [
    "# padding token sequense to max length of 40\n",
    "X_train_padded = sequence.pad_sequences(X_train, maxlen=40, padding=\"post\", truncating=\"post\", value='_pad_',dtype=object)\n",
    "X_test_padded = sequence.pad_sequences(X_test, maxlen=40, padding=\"post\", truncating=\"post\", value='_pad_',dtype=object)\n",
    "\n",
    "train_corpus = list(tweets_updated.new_tweets)\n",
    "train_cor_tk = [word_tokenize(x) for x in train_corpus]\n",
    "corpus_padded = sequence.pad_sequences(train_cor_tk, maxlen=40,padding=\"post\", truncating=\"post\", value='_pad_',dtype=object)\n",
    "\n",
    "corpus_padded = corpus_padded.tolist()\n",
    "X_train_padded = X_train_padded.tolist()\n",
    "X_test_padded = X_test_padded.tolist()"
   ]
  },
  {
   "cell_type": "code",
   "execution_count": 22,
   "metadata": {},
   "outputs": [
    {
     "name": "stderr",
     "output_type": "stream",
     "text": [
      "/Users/Cassie/anaconda3/lib/python3.6/site-packages/ipykernel_launcher.py:10: DeprecationWarning: Call to deprecated `__getitem__` (Method will be removed in 4.0.0, use self.wv.__getitem__() instead).\n",
      "  # Remove the CWD from sys.path while we load stuff.\n",
      "/Users/Cassie/anaconda3/lib/python3.6/site-packages/ipykernel_launcher.py:15: DeprecationWarning: Call to deprecated `__getitem__` (Method will be removed in 4.0.0, use self.wv.__getitem__() instead).\n",
      "  from ipykernel import kernelapp as app\n"
     ]
    },
    {
     "name": "stdout",
     "output_type": "stream",
     "text": [
      "X_train_vec shape:  (54551, 40, 20)\n",
      "X_test_vec shape:  (23379, 40, 20)\n"
     ]
    }
   ],
   "source": [
    "# train word2vec and vectorizing training set and test set \n",
    "w2v_model = Word2Vec(corpus_padded, min_count=1, size = 20, workers=1, window=3)\n",
    "\n",
    "# vector with size train/test, maxlen = 40 \n",
    "X_train_vec = np.empty([len(X_train), 40, 20])\n",
    "X_test_vec = np.empty([len(X_test), 40, 20])\n",
    "\n",
    "idx_train = 0\n",
    "for w in X_train_padded:\n",
    "    X_train_vec[idx_train, :, :] = w2v_model[w]\n",
    "    idx_train += 1\n",
    "\n",
    "idx_test = 0\n",
    "for w in X_test_padded:\n",
    "    X_test_vec[idx_test,:,:] = w2v_model[w]\n",
    "    idx_test += 1\n",
    "\n",
    "print('X_train_vec shape: ', X_train_vec.shape)\n",
    "print('X_test_vec shape: ', X_test_vec.shape)"
   ]
  },
  {
   "cell_type": "code",
   "execution_count": 23,
   "metadata": {},
   "outputs": [
    {
     "name": "stdout",
     "output_type": "stream",
     "text": [
      "Train on 54551 samples, validate on 23379 samples\n",
      "Epoch 1/10\n",
      "54551/54551 [==============================] - 222s 4ms/step - loss: 0.3893 - acc: 0.8432 - val_loss: 0.3222 - val_acc: 0.8748\n",
      "Epoch 2/10\n",
      "54551/54551 [==============================] - 200s 4ms/step - loss: 0.3314 - acc: 0.8728 - val_loss: 0.3213 - val_acc: 0.8748\n",
      "Epoch 3/10\n",
      "54551/54551 [==============================] - 206s 4ms/step - loss: 0.3276 - acc: 0.8738 - val_loss: 0.3211 - val_acc: 0.8748\n",
      "Epoch 4/10\n",
      "54551/54551 [==============================] - 201s 4ms/step - loss: 0.3261 - acc: 0.8743 - val_loss: 0.3210 - val_acc: 0.8748\n",
      "Epoch 5/10\n",
      "54551/54551 [==============================] - 201s 4ms/step - loss: 0.3252 - acc: 0.8745 - val_loss: 0.3210 - val_acc: 0.8748\n",
      "Epoch 6/10\n",
      "54551/54551 [==============================] - 209s 4ms/step - loss: 0.3245 - acc: 0.8746 - val_loss: 0.3190 - val_acc: 0.8748\n",
      "Epoch 7/10\n",
      "54551/54551 [==============================] - 195s 4ms/step - loss: 0.2989 - acc: 0.8796 - val_loss: 0.2451 - val_acc: 0.9087\n",
      "Epoch 8/10\n",
      "54551/54551 [==============================] - 200s 4ms/step - loss: 0.2200 - acc: 0.9179 - val_loss: 0.1918 - val_acc: 0.9313\n",
      "Epoch 9/10\n",
      "54551/54551 [==============================] - 211s 4ms/step - loss: 0.1880 - acc: 0.9333 - val_loss: 0.1690 - val_acc: 0.9391\n",
      "Epoch 10/10\n",
      "54551/54551 [==============================] - 197s 4ms/step - loss: 0.1751 - acc: 0.9384 - val_loss: 0.1606 - val_acc: 0.9419\n"
     ]
    }
   ],
   "source": [
    "# Build LSTM model\n",
    "model_rnn = Sequential()\n",
    "model_rnn.add(LSTM(128, input_shape = (40, 20)))\n",
    "model_rnn.add(Dense(128, activation = 'relu'))\n",
    "model_rnn.add(Dropout(0.2))\n",
    "model_rnn.add(Dense(64, activation = 'relu'))\n",
    "model_rnn.add(Dropout(0.2))\n",
    "model_rnn.add(Dense(15, activation ='sigmoid'))\n",
    "\n",
    "model_rnn.compile(loss='binary_crossentropy', optimizer='adam',metrics=['accuracy'])\n",
    "\n",
    "history = model_rnn.fit(X_train_vec, y_train,\n",
    "                        epochs=10, batch_size=500,\n",
    "                        validation_data=(X_test_vec, y_test))"
   ]
  },
  {
   "cell_type": "code",
   "execution_count": 24,
   "metadata": {},
   "outputs": [
    {
     "name": "stdout",
     "output_type": "stream",
     "text": [
      "Train loss:  0.17514417331047524\n",
      "Train accuracy:  0.9383600887905935\n",
      "Test loss:  0.1605905552159537\n",
      "Test accuracy:  0.9419365368732165\n"
     ]
    }
   ],
   "source": [
    "score = model_rnn.evaluate(X_test_vec, y_test, batch_size=64, verbose = 0)\n",
    "from sklearn import metrics\n",
    "import matplotlib.pyplot as plt\n",
    "\n",
    "print('Train loss: ', history.history['loss'][9]) \n",
    "print('Train accuracy: ', history.history['acc'][9])\n",
    "\n",
    "print('Test loss: ', score[0])\n",
    "print('Test accuracy: ', score[1])"
   ]
  },
  {
   "cell_type": "code",
   "execution_count": 25,
   "metadata": {},
   "outputs": [
    {
     "name": "stdout",
     "output_type": "stream",
     "text": [
      "Train on 54551 samples, validate on 23379 samples\n",
      "Epoch 1/10\n",
      "54551/54551 [==============================] - 70s 1ms/step - loss: 0.2237 - acc: 0.9187 - val_loss: 0.1664 - val_acc: 0.9405\n",
      "Epoch 2/10\n",
      "54551/54551 [==============================] - 55s 1ms/step - loss: 0.1725 - acc: 0.9398 - val_loss: 0.1576 - val_acc: 0.9436\n",
      "Epoch 3/10\n",
      "54551/54551 [==============================] - 59s 1ms/step - loss: 0.1647 - acc: 0.9424 - val_loss: 0.1547 - val_acc: 0.9447\n",
      "Epoch 4/10\n",
      "54551/54551 [==============================] - 51s 929us/step - loss: 0.1608 - acc: 0.9435 - val_loss: 0.1521 - val_acc: 0.9453\n",
      "Epoch 5/10\n",
      "54551/54551 [==============================] - 57s 1ms/step - loss: 0.1590 - acc: 0.9440 - val_loss: 0.1505 - val_acc: 0.9457\n",
      "Epoch 6/10\n",
      "54551/54551 [==============================] - 59s 1ms/step - loss: 0.1570 - acc: 0.9446 - val_loss: 0.1497 - val_acc: 0.9458\n",
      "Epoch 7/10\n",
      "54551/54551 [==============================] - 50s 915us/step - loss: 0.1553 - acc: 0.9448 - val_loss: 0.1483 - val_acc: 0.9465\n",
      "Epoch 8/10\n",
      "54551/54551 [==============================] - 58s 1ms/step - loss: 0.1544 - acc: 0.9452 - val_loss: 0.1476 - val_acc: 0.9465\n",
      "Epoch 9/10\n",
      "54551/54551 [==============================] - 60s 1ms/step - loss: 0.1528 - acc: 0.9456 - val_loss: 0.1471 - val_acc: 0.9468\n",
      "Epoch 10/10\n",
      "54551/54551 [==============================] - 50s 920us/step - loss: 0.1521 - acc: 0.9457 - val_loss: 0.1464 - val_acc: 0.9473\n"
     ]
    }
   ],
   "source": [
    "#3.2\n",
    "\n",
    "model_cnn = Sequential()\n",
    "model_cnn.add(Conv1D(128, 3, activation='relu', padding = 'valid', strides=1, input_shape=(40,20)))\n",
    "model_cnn.add(GlobalMaxPooling1D())\n",
    "model_cnn.add(Dense(64))\n",
    "model_cnn.add(Dropout(0.2))\n",
    "model_cnn.add(Activation('relu'))\n",
    "model_cnn.add(Dense(15, activation ='sigmoid'))\n",
    "\n",
    "model_cnn.compile(loss='binary_crossentropy', optimizer='adam', metrics=['accuracy'])\n",
    "\n",
    "history_cnn = model_cnn.fit(X_train_vec, y_train, epochs=10, batch_size=128,\n",
    "                        validation_data=(X_test_vec, y_test))"
   ]
  },
  {
   "cell_type": "code",
   "execution_count": 26,
   "metadata": {},
   "outputs": [
    {
     "name": "stdout",
     "output_type": "stream",
     "text": [
      "Train loss:  0.15205840142450092\n",
      "Train accuracy:  0.9457338564706346\n",
      "Test loss:  0.146402376554414\n",
      "Test accuracy:  0.947266102166043\n"
     ]
    }
   ],
   "source": [
    "score_cnn = model_cnn.evaluate(X_test_vec, y_test, batch_size=64, verbose = 0)\n",
    "\n",
    "print('Train loss: ', history_cnn.history['loss'][9]) \n",
    "print('Train accuracy: ', history_cnn.history['acc'][9])\n",
    "\n",
    "print('Test loss: ', score_cnn[0])\n",
    "print('Test accuracy: ', score_cnn[1])"
   ]
  },
  {
   "cell_type": "code",
   "execution_count": 27,
   "metadata": {},
   "outputs": [
    {
     "data": {
      "text/plain": [
       "Text(0.5,1,'Text Classification Accuracy RNN CNN Comparison')"
      ]
     },
     "execution_count": 27,
     "metadata": {},
     "output_type": "execute_result"
    },
    {
     "data": {
      "image/png": "[encoded data removed]",
      "text/plain": [
       "<Figure size 432x288 with 1 Axes>"
      ]
     },
     "metadata": {
      "needs_background": "light"
     },
     "output_type": "display_data"
    }
   ],
   "source": [
    "## 3.3\n",
    "\n",
    "plt.plot(history.history['acc'], label='RNN train accuracy', color = 'r')\n",
    "plt.plot(history_cnn.history['acc'], label = 'CNN train accuracy', color = 'k')\n",
    "plt.xlabel('Epoch')\n",
    "plt.ylabel('Accuracy')\n",
    "plt.ylim([0.8, 1])\n",
    "plt.legend(loc='lower right')\n",
    "plt.title('Text Classification Accuracy RNN CNN Comparison')"
   ]
  },
  {
   "cell_type": "code",
   "execution_count": 28,
   "metadata": {},
   "outputs": [
    {
     "data": {
      "text/plain": [
       "Text(0.5,1,'Text Classification Loss RNN CNN Comparison')"
      ]
     },
     "execution_count": 28,
     "metadata": {},
     "output_type": "execute_result"
    },
    {
     "data": {
      "image/png": "[encoded data removed]",
      "text/plain": [
       "<Figure size 432x288 with 1 Axes>"
      ]
     },
     "metadata": {
      "needs_background": "light"
     },
     "output_type": "display_data"
    }
   ],
   "source": [
    "plt.plot(history.history['loss'], label='RNN train loss', color = 'r')\n",
    "plt.plot(history_cnn.history['loss'], label = 'CNN train loss', color = 'k')\n",
    "plt.xlabel('Epoch')\n",
    "plt.ylabel('Loss')\n",
    "plt.ylim([0, 0.5])\n",
    "plt.legend(loc='lower right')\n",
    "plt.title('Text Classification Loss RNN CNN Comparison')"
   ]
  },
  {
   "cell_type": "markdown",
   "metadata": {},
   "source": [
    "In shows CNN has higher accuracy than RNN and less train loss.\n",
    "Thus, by choosing method of using sigmoid activation to collapse the output to between 0 and 1 with each category output being roughly independent of the others, CNN performs better than RNN model."
   ]
  },
  {
   "cell_type": "code",
   "execution_count": null,
   "metadata": {},
   "outputs": [],
   "source": []
  }
 ],
 "metadata": {
  "kernelspec": {
   "display_name": "Python 3",
   "language": "python",
   "name": "python3"
  },
  "language_info": {
   "codemirror_mode": {
    "name": "ipython",
    "version": 3
   },
   "file_extension": ".py",
   "mimetype": "text/x-python",
   "name": "python",
   "nbconvert_exporter": "python",
   "pygments_lexer": "ipython3",
   "version": "3.6.8"
  }
 },
 "nbformat": 4,
 "nbformat_minor": 2
}
